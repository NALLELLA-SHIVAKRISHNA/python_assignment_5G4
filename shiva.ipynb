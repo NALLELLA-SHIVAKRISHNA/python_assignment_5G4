{
  "nbformat": 4,
  "nbformat_minor": 0,
  "metadata": {
    "colab": {
      "name": "shiva.ipynb",
      "provenance": [],
      "authorship_tag": "ABX9TyPcmQ5ugcIKx8GYoY3509FA",
      "include_colab_link": true
    },
    "kernelspec": {
      "name": "python3",
      "display_name": "Python 3"
    }
  },
  "cells": [
    {
      "cell_type": "markdown",
      "metadata": {
        "id": "view-in-github",
        "colab_type": "text"
      },
      "source": [
        "<a href=\"https://colab.research.google.com/github/NALLELLA-SHIVAKRISHNA/python_assignment_5G4/blob/master/shiva.ipynb\" target=\"_parent\"><img src=\"https://colab.research.google.com/assets/colab-badge.svg\" alt=\"Open In Colab\"/></a>"
      ]
    },
    {
      "cell_type": "code",
      "metadata": {
        "id": "cTJYWnqj7CX_",
        "colab_type": "code",
        "colab": {}
      },
      "source": [
        ""
      ],
      "execution_count": null,
      "outputs": []
    },
    {
      "cell_type": "code",
      "metadata": {
        "id": "e95V5SxUDU8c",
        "colab_type": "code",
        "colab": {
          "base_uri": "https://localhost:8080/",
          "height": 34
        },
        "outputId": "ce4e6fa2-cd83-4307-9a33-df285dd8dea6"
      },
      "source": [
        "print(0.1+0.2)"
      ],
      "execution_count": null,
      "outputs": [
        {
          "output_type": "stream",
          "text": [
            "0.30000000000000004\n"
          ],
          "name": "stdout"
        }
      ]
    },
    {
      "cell_type": "code",
      "metadata": {
        "id": "2fcTxiqYUDYZ",
        "colab_type": "code",
        "colab": {
          "base_uri": "https://localhost:8080/",
          "height": 34
        },
        "outputId": "f5f89984-a1ab-41f1-94fb-d12801e69d28"
      },
      "source": [
        "print(\"1.8\"+\"2\")"
      ],
      "execution_count": null,
      "outputs": [
        {
          "output_type": "stream",
          "text": [
            "1.82\n"
          ],
          "name": "stdout"
        }
      ]
    },
    {
      "cell_type": "code",
      "metadata": {
        "id": "7goIG4GPUdFs",
        "colab_type": "code",
        "colab": {
          "base_uri": "https://localhost:8080/",
          "height": 34
        },
        "outputId": "ff49e421-fdd3-4c71-c65a-318a5812d95e"
      },
      "source": [
        "print(87>87)"
      ],
      "execution_count": null,
      "outputs": [
        {
          "output_type": "stream",
          "text": [
            "False\n"
          ],
          "name": "stdout"
        }
      ]
    },
    {
      "cell_type": "code",
      "metadata": {
        "id": "pZmgcECMWhse",
        "colab_type": "code",
        "colab": {
          "base_uri": "https://localhost:8080/",
          "height": 34
        },
        "outputId": "069f95ce-7e7c-4f9f-cdfc-189360f60719"
      },
      "source": [
        "print((0.1+0.2)==0.3)"
      ],
      "execution_count": null,
      "outputs": [
        {
          "output_type": "stream",
          "text": [
            "False\n"
          ],
          "name": "stdout"
        }
      ]
    },
    {
      "cell_type": "code",
      "metadata": {
        "id": "Y0ghC9jIX7Nm",
        "colab_type": "code",
        "colab": {
          "base_uri": "https://localhost:8080/",
          "height": 34
        },
        "outputId": "b3f243d3-16fc-4603-b279-226315af1fb5"
      },
      "source": [
        "print(\"Predict\" \"output\" ,\".....\")"
      ],
      "execution_count": null,
      "outputs": [
        {
          "output_type": "stream",
          "text": [
            "Predictoutput .....\n"
          ],
          "name": "stdout"
        }
      ]
    },
    {
      "cell_type": "code",
      "metadata": {
        "id": "3Y-c_6wUY2ei",
        "colab_type": "code",
        "colab": {
          "base_uri": "https://localhost:8080/",
          "height": 51
        },
        "outputId": "6aef7934-ee91-43e9-c959-3e902a81cd61"
      },
      "source": [
        "print(\"Prints\",\"multiple \",\"messages\\n\")"
      ],
      "execution_count": null,
      "outputs": [
        {
          "output_type": "stream",
          "text": [
            "Prints multiple  messages\n",
            "\n"
          ],
          "name": "stdout"
        }
      ]
    },
    {
      "cell_type": "code",
      "metadata": {
        "id": "heZwvko6c0fb",
        "colab_type": "code",
        "colab": {
          "base_uri": "https://localhost:8080/",
          "height": 51
        },
        "outputId": "d7ec1ae5-734d-489f-8d15-0eed76a283e4"
      },
      "source": [
        "print(\"concatenate \"+\" two strings\\n\")"
      ],
      "execution_count": null,
      "outputs": [
        {
          "output_type": "stream",
          "text": [
            "concatenate  two strings\n",
            "\n"
          ],
          "name": "stdout"
        }
      ]
    },
    {
      "cell_type": "code",
      "metadata": {
        "id": "2RGq8kvOdUu_",
        "colab_type": "code",
        "colab": {
          "base_uri": "https://localhost:8080/",
          "height": 163
        },
        "outputId": "d84946b3-782f-459d-db40-8d4263492e3c"
      },
      "source": [
        "print(5+6+ \" adds two strings\")"
      ],
      "execution_count": null,
      "outputs": [
        {
          "output_type": "error",
          "ename": "TypeError",
          "evalue": "ignored",
          "traceback": [
            "\u001b[0;31m---------------------------------------------------------------------------\u001b[0m",
            "\u001b[0;31mTypeError\u001b[0m                                 Traceback (most recent call last)",
            "\u001b[0;32m<ipython-input-12-30674304e986>\u001b[0m in \u001b[0;36m<module>\u001b[0;34m()\u001b[0m\n\u001b[0;32m----> 1\u001b[0;31m \u001b[0mprint\u001b[0m\u001b[0;34m(\u001b[0m\u001b[0;36m5\u001b[0m\u001b[0;34m+\u001b[0m\u001b[0;36m6\u001b[0m\u001b[0;34m+\u001b[0m \u001b[0;34m\" adds two strings\"\u001b[0m\u001b[0;34m)\u001b[0m\u001b[0;34m\u001b[0m\u001b[0;34m\u001b[0m\u001b[0m\n\u001b[0m",
            "\u001b[0;31mTypeError\u001b[0m: unsupported operand type(s) for +: 'int' and 'str'"
          ]
        }
      ]
    },
    {
      "cell_type": "code",
      "metadata": {
        "id": "JA-1epBsdm-s",
        "colab_type": "code",
        "colab": {
          "base_uri": "https://localhost:8080/",
          "height": 34
        },
        "outputId": "c7ea164d-73a5-410f-a192-be533e1cdd3a"
      },
      "source": [
        "print(\"ba\"+\"na\"*2)"
      ],
      "execution_count": null,
      "outputs": [
        {
          "output_type": "stream",
          "text": [
            "banana\n"
          ],
          "name": "stdout"
        }
      ]
    },
    {
      "cell_type": "code",
      "metadata": {
        "id": "tiQ_GePrd_jZ",
        "colab_type": "code",
        "colab": {
          "base_uri": "https://localhost:8080/",
          "height": 34
        },
        "outputId": "b35559cf-7f19-4ede-b174-e099155fe6e6"
      },
      "source": [
        "print(r\"C:\\naresh\\raju\\abhi\")"
      ],
      "execution_count": null,
      "outputs": [
        {
          "output_type": "stream",
          "text": [
            "C:\\naresh\\raju\\abhi\n"
          ],
          "name": "stdout"
        }
      ]
    },
    {
      "cell_type": "code",
      "metadata": {
        "id": "R-I7Was6ee0k",
        "colab_type": "code",
        "colab": {
          "base_uri": "https://localhost:8080/",
          "height": 34
        },
        "outputId": "dd192058-d823-423e-b996-4e68b344532e"
      },
      "source": [
        "'welcome to python traing programe'[-5::-4]"
      ],
      "execution_count": null,
      "outputs": [
        {
          "output_type": "execute_result",
          "data": {
            "text/plain": [
              "'g anytow'"
            ]
          },
          "metadata": {
            "tags": []
          },
          "execution_count": 26
        }
      ]
    },
    {
      "cell_type": "code",
      "metadata": {
        "id": "P_2jCl8bIOue",
        "colab_type": "code",
        "colab": {
          "base_uri": "https://localhost:8080/",
          "height": 34
        },
        "outputId": "4e111d88-b062-4491-cfc2-083b6ebd7ef3"
      },
      "source": [
        "'A series of characters designated as one object know as a string'[2:18:5]"
      ],
      "execution_count": null,
      "outputs": [
        {
          "output_type": "execute_result",
          "data": {
            "text/plain": [
              "'sscc'"
            ]
          },
          "metadata": {
            "tags": []
          },
          "execution_count": 6
        }
      ]
    },
    {
      "cell_type": "code",
      "metadata": {
        "id": "JmLMND2uJlGp",
        "colab_type": "code",
        "colab": {
          "base_uri": "https://localhost:8080/",
          "height": 34
        },
        "outputId": "fa0dbf5f-aae1-4443-be5c-3ad6df681d5c"
      },
      "source": [
        "print(\"A series of characters designated as one object know as a string\"[::-1][4::3])"
      ],
      "execution_count": null,
      "outputs": [
        {
          "output_type": "stream",
          "text": [
            "taao eonsdaidrca  is\n"
          ],
          "name": "stdout"
        }
      ]
    },
    {
      "cell_type": "code",
      "metadata": {
        "id": "ql6NWMVSSj0-",
        "colab_type": "code",
        "colab": {
          "base_uri": "https://localhost:8080/",
          "height": 34
        },
        "outputId": "d33364d7-c77d-42b5-a519-df79d80881d9"
      },
      "source": [
        "print(\"----------\")"
      ],
      "execution_count": null,
      "outputs": [
        {
          "output_type": "stream",
          "text": [
            "----------\n"
          ],
          "name": "stdout"
        }
      ]
    },
    {
      "cell_type": "code",
      "metadata": {
        "id": "oeetUD5kSqSp",
        "colab_type": "code",
        "colab": {
          "base_uri": "https://localhost:8080/",
          "height": 34
        },
        "outputId": "4b1e11a6-fc2e-4511-bfba-c39cba4a3738"
      },
      "source": [
        "print(\"welcome to Pythin traning program\"[3:10][::-1])"
      ],
      "execution_count": null,
      "outputs": [
        {
          "output_type": "stream",
          "text": [
            "ot emoc\n"
          ],
          "name": "stdout"
        }
      ]
    },
    {
      "cell_type": "code",
      "metadata": {
        "id": "hNM6l5g-TDib",
        "colab_type": "code",
        "colab": {
          "base_uri": "https://localhost:8080/",
          "height": 51
        },
        "outputId": "affec845-41f1-46b1-f816-99aaa2a4103c"
      },
      "source": [
        "str1=True\n",
        "x=5>3\n",
        "print(str1==x)\n",
        "y=5>8\n",
        "print(str1==y)"
      ],
      "execution_count": null,
      "outputs": [
        {
          "output_type": "stream",
          "text": [
            "True\n",
            "False\n"
          ],
          "name": "stdout"
        }
      ]
    },
    {
      "cell_type": "code",
      "metadata": {
        "id": "fHtNFjh2Tdrl",
        "colab_type": "code",
        "colab": {
          "base_uri": "https://localhost:8080/",
          "height": 217
        },
        "outputId": "e7dc6355-baae-45e6-cd8e-635c7512a89d"
      },
      "source": [
        "num=7\n",
        "Name = \"Michael Jackon\"\n",
        "sear_rum = Name.find('el')\n",
        "print(num>sear_num)"
      ],
      "execution_count": null,
      "outputs": [
        {
          "output_type": "error",
          "ename": "NameError",
          "evalue": "ignored",
          "traceback": [
            "\u001b[0;31m---------------------------------------------------------------------------\u001b[0m",
            "\u001b[0;31mNameError\u001b[0m                                 Traceback (most recent call last)",
            "\u001b[0;32m<ipython-input-11-095d0a694d72>\u001b[0m in \u001b[0;36m<module>\u001b[0;34m()\u001b[0m\n\u001b[1;32m      2\u001b[0m \u001b[0mName\u001b[0m \u001b[0;34m=\u001b[0m \u001b[0;34m\"Michael Jackon\"\u001b[0m\u001b[0;34m\u001b[0m\u001b[0;34m\u001b[0m\u001b[0m\n\u001b[1;32m      3\u001b[0m \u001b[0msear_rum\u001b[0m \u001b[0;34m=\u001b[0m \u001b[0mName\u001b[0m\u001b[0;34m.\u001b[0m\u001b[0mfind\u001b[0m\u001b[0;34m(\u001b[0m\u001b[0;34m'el'\u001b[0m\u001b[0;34m)\u001b[0m\u001b[0;34m\u001b[0m\u001b[0;34m\u001b[0m\u001b[0m\n\u001b[0;32m----> 4\u001b[0;31m \u001b[0mprint\u001b[0m\u001b[0;34m(\u001b[0m\u001b[0mnum\u001b[0m\u001b[0;34m>\u001b[0m\u001b[0msear_num\u001b[0m\u001b[0;34m)\u001b[0m\u001b[0;34m\u001b[0m\u001b[0;34m\u001b[0m\u001b[0m\n\u001b[0m",
            "\u001b[0;31mNameError\u001b[0m: name 'sear_num' is not defined"
          ]
        }
      ]
    },
    {
      "cell_type": "code",
      "metadata": {
        "id": "PdVRwdXMUM75",
        "colab_type": "code",
        "colab": {
          "base_uri": "https://localhost:8080/",
          "height": 34
        },
        "outputId": "3b44fd29-5b01-48b4-dfce-95c14309b747"
      },
      "source": [
        "print('p_phrase=\"was it a car or a cat i saw\"'.upper()[-2:9:-1])"
      ],
      "execution_count": null,
      "outputs": [
        {
          "output_type": "stream",
          "text": [
            "WAS I TAC A RO RAC A TI SAW\n"
          ],
          "name": "stdout"
        }
      ]
    },
    {
      "cell_type": "code",
      "metadata": {
        "id": "q9ujnLGVUtld",
        "colab_type": "code",
        "colab": {
          "base_uri": "https://localhost:8080/",
          "height": 34
        },
        "outputId": "5b86f9ea-0e8f-4f98-eab1-5d058c78476f"
      },
      "source": [
        "print(\"A='1934567'\"[4:9:2])"
      ],
      "execution_count": null,
      "outputs": [
        {
          "output_type": "stream",
          "text": [
            "946\n"
          ],
          "name": "stdout"
        }
      ]
    },
    {
      "cell_type": "code",
      "metadata": {
        "id": "0CVrguXUiS5W",
        "colab_type": "code",
        "colab": {
          "base_uri": "https://localhost:8080/",
          "height": 34
        },
        "outputId": "df00bbd3-22a4-4c87-e059-47c4cc06adb4"
      },
      "source": [
        "#question 9\n",
        "a=\"fake newsnhas a knack for soreading like wildfire\"[-10:-34:-1]\n",
        "print(a.upper().split(\" \"))"
      ],
      "execution_count": null,
      "outputs": [
        {
          "output_type": "stream",
          "text": [
            "['EKIL', 'GNIDAEROS', 'ROF', 'KCANK']\n"
          ],
          "name": "stdout"
        }
      ]
    },
    {
      "cell_type": "code",
      "metadata": {
        "id": "hhmJTJDRu6Vz",
        "colab_type": "code",
        "colab": {
          "base_uri": "https://localhost:8080/",
          "height": 34
        },
        "outputId": "be105ae3-4286-4f77-8c5b-9462f60aabfc"
      },
      "source": [
        "#question 10\n",
        "print(\"Facebook already uses AI to FIlter Fake stories from the feeds of users \".strip().replace(\" \",\",\"))"
      ],
      "execution_count": null,
      "outputs": [
        {
          "output_type": "stream",
          "text": [
            "Facebook,already,uses,AI,to,FIlter,Fake,stories,from,the,feeds,of,users\n"
          ],
          "name": "stdout"
        }
      ]
    },
    {
      "cell_type": "code",
      "metadata": {
        "id": "isztdXr5P97p",
        "colab_type": "code",
        "colab": {
          "base_uri": "https://localhost:8080/",
          "height": 34
        },
        "outputId": "09ce610e-8be4-4ed7-9e4e-3042f2414da1"
      },
      "source": [
        "#question 11\n",
        "msg2 = \"welcome to sr engineering college\"\n",
        "x = msg2.count(\"o\")\n",
        "y = msg2.count(\"r\")\n",
        "msg2[y**x:(x**y+x+y):][::-1]"
      ],
      "execution_count": null,
      "outputs": [
        {
          "output_type": "execute_result",
          "data": {
            "text/plain": [
              "' rs ot'"
            ]
          },
          "metadata": {
            "tags": []
          },
          "execution_count": 4
        }
      ]
    },
    {
      "cell_type": "code",
      "metadata": {
        "id": "QDI4ZYPyRPLU",
        "colab_type": "code",
        "colab": {
          "base_uri": "https://localhost:8080/",
          "height": 34
        },
        "outputId": "7aa08983-3496-4249-95b7-d38073d6a62e"
      },
      "source": [
        "#question 12 a\n",
        "num1,num2 = \"94\",\"30\"\n",
        "data = \"as per Census 2011, Gender ratio of india is 943 females per 1000 males\"\n",
        "num1 +num2[0] in data\n",
        "print(num1+num2[0] in data)"
      ],
      "execution_count": null,
      "outputs": [
        {
          "output_type": "stream",
          "text": [
            "True\n"
          ],
          "name": "stdout"
        }
      ]
    },
    {
      "cell_type": "code",
      "metadata": {
        "id": "beHqxfYgSpkB",
        "colab_type": "code",
        "colab": {
          "base_uri": "https://localhost:8080/",
          "height": 51
        },
        "outputId": "baa76c06-9c39-4981-a053-7035a0467d6c"
      },
      "source": [
        "#question 12 b\n",
        "print(data[:45],print(int(num1)+int(num2)))"
      ],
      "execution_count": null,
      "outputs": [
        {
          "output_type": "stream",
          "text": [
            "124\n",
            "as per Census 2011, Gender ratio of india is  None\n"
          ],
          "name": "stdout"
        }
      ]
    },
    {
      "cell_type": "code",
      "metadata": {
        "id": "VsjorZADS8Rq",
        "colab_type": "code",
        "colab": {
          "base_uri": "https://localhost:8080/",
          "height": 85
        },
        "outputId": "96dc34cb-18e1-48c6-c4ea-d843b4f91582"
      },
      "source": [
        "#question 13\n",
        "float(input(\"Enter amount of water\"))*(float(input(\"Enter initial temperature\"))-float(input(\"Enter final temperature\")))*4184"
      ],
      "execution_count": null,
      "outputs": [
        {
          "output_type": "stream",
          "text": [
            "Enter amount of water23\n",
            "Enter initial temperature45\n",
            "Enter final temperature56\n"
          ],
          "name": "stdout"
        },
        {
          "output_type": "execute_result",
          "data": {
            "text/plain": [
              "-1058552.0"
            ]
          },
          "metadata": {
            "tags": []
          },
          "execution_count": 8
        }
      ]
    },
    {
      "cell_type": "code",
      "metadata": {
        "id": "7ZVp39GyTp_h",
        "colab_type": "code",
        "colab": {
          "base_uri": "https://localhost:8080/",
          "height": 51
        },
        "outputId": "988b549f-da90-4e2d-cbb1-282b04b1c5af"
      },
      "source": [
        "#question 14\n",
        "x= int(input(\"Enter x value : \"))\n",
        "y=2*x\n",
        "print('z'*x+'o'*y)"
      ],
      "execution_count": null,
      "outputs": [
        {
          "output_type": "stream",
          "text": [
            "Enter x value : 2\n",
            "zzoooo\n"
          ],
          "name": "stdout"
        }
      ]
    },
    {
      "cell_type": "code",
      "metadata": {
        "id": "3o-2i8awT-Z-",
        "colab_type": "code",
        "colab": {
          "base_uri": "https://localhost:8080/",
          "height": 102
        },
        "outputId": "5883b8ce-77c2-427f-a479-9b8bd9f14836"
      },
      "source": [
        "#question 15\n",
        "x= int(input(\"Enter first number : \"))\n",
        "y = int(input(\"Enter second number : \"))\n",
        "pow=x**y\n",
        "C=x*y\n",
        "Div=pow//C\n",
        "sum=x+y\n",
        "V=Div^sum\n",
        "print(pow)\n",
        "print(Div)\n",
        "print(V)"
      ],
      "execution_count": null,
      "outputs": [
        {
          "output_type": "stream",
          "text": [
            "Enter first number : 2\n",
            "Enter second number : 3\n",
            "8\n",
            "1\n",
            "4\n"
          ],
          "name": "stdout"
        }
      ]
    }
  ]
}